{
  "nbformat": 4,
  "nbformat_minor": 0,
  "metadata": {
    "kernelspec": {
      "display_name": "Python 3",
      "language": "python",
      "name": "python3"
    },
    "language_info": {
      "codemirror_mode": {
        "name": "ipython",
        "version": 3
      },
      "file_extension": ".py",
      "mimetype": "text/x-python",
      "name": "python",
      "nbconvert_exporter": "python",
      "pygments_lexer": "ipython3",
      "version": "3.6.12"
    },
    "colab": {
      "provenance": [],
      "include_colab_link": true
    },
    "accelerator": "GPU"
  },
  "cells": [
    {
      "cell_type": "markdown",
      "metadata": {
        "id": "view-in-github",
        "colab_type": "text"
      },
      "source": [
        "<a href=\"https://colab.research.google.com/github/toviga2000/Procesado-de-se-ales/blob/main/Practica1_V%C3%ADllora_Garc%C3%ADa_Antonio.ipynb\" target=\"_parent\"><img src=\"https://colab.research.google.com/assets/colab-badge.svg\" alt=\"Open In Colab\"/></a>"
      ]
    },
    {
      "cell_type": "markdown",
      "metadata": {
        "id": "D7q3CY_bw8IM"
      },
      "source": [
        "\n",
        "# Computational Statistics (part I)\n"
      ]
    },
    {
      "cell_type": "markdown",
      "metadata": {
        "id": "N_SHzRVtw8IR"
      },
      "source": [
        "# Index"
      ]
    },
    {
      "cell_type": "markdown",
      "metadata": {
        "id": "TlhCMa1zw8IR"
      },
      "source": [
        "###1 Estimation\n",
        "* 1.1 Kernel density estimation\n",
        "* 1.2 Sample mean\n",
        "* 1.3 Variance\n",
        "* 1.4 Standard scores\n",
        "* 1.5 Covariance \n",
        "* 1.6 Pearson's correlation\n",
        "* 1.7 Spearman's rank correlation\n",
        " "
      ]
    },
    {
      "cell_type": "markdown",
      "metadata": {
        "id": "zudjiChnYj7N"
      },
      "source": [
        "## 1 Estimation"
      ]
    },
    {
      "cell_type": "markdown",
      "metadata": {
        "id": "YssNGO3hw8Ij"
      },
      "source": [
        "### 1.1 Kernel density estimates \n",
        "\n",
        "In some instances, we may not be interested in the parameters of a particular distribution of data, but on just a **continous representation** of the data at hand. In this case, we can estimate the distribution non-parametrically (i.e. making no assumptions about the form of the underlying distribution) using kernel density estimation.\n",
        "\n",
        "> In statistics, kernel density estimation (KDE) is a non-parametric way to estimate the probability density function of a random variable. Kernel density estimation is a fundamental data smoothing problem where inferences about the population are made, based on a finite data sample. \n",
        "\n",
        "Several uses are defined:\n",
        "\n",
        "- Visualization - to explore the data by visualizing them and decide whether an estimated PDF is an appropriate model for the distribution.\n",
        "\n",
        "- Interpolation - if we have reasons to beleive that the distribution is smooth, we can apply the KDE to interpolate the density specially for values that were not sampled.\n",
        "\n",
        "- Simulation - specially when the sample distribution is small, it would be convenient to smooth the sample distribution by KDE in order to simulate and explore more possible outcomes, rather than replicating the observed data."
      ]
    },
    {
      "cell_type": "code",
      "metadata": {
        "id": "tzLmLKjbZ23K"
      },
      "source": [
        "import numpy as np\n",
        "import matplotlib.pyplot as plt\n"
      ],
      "execution_count": null,
      "outputs": []
    },
    {
      "cell_type": "markdown",
      "metadata": {
        "id": "_s9zQKt1w8Ik"
      },
      "source": [
        "Let's create a bi-modal distribution of data that is not easily summarized by a parametric distribution and adjust a KDE:"
      ]
    },
    {
      "cell_type": "code",
      "metadata": {
        "id": "AHfeX6iKw8Ik"
      },
      "source": [
        "# Create a bimodal distribution with a mixture of Normals.\n",
        "from scipy.stats import norm\n",
        "\n",
        "x1 = norm.rvs(size=100,loc=0,scale=3) # parameters (size=None,loc=mean,scale=stdev)\n",
        "x2 = norm.rvs(size=50,loc=8,scale=1)\n",
        "\n",
        "# Append by row\n",
        "x = np.r_[x1, x2] # r_ Translates slice objects to concatenation along the first axis.\n",
        "\n"
      ],
      "execution_count": null,
      "outputs": []
    },
    {
      "cell_type": "code",
      "source": [
        "plt.plot(x,np.zeros((x.shape[0],)),'.')"
      ],
      "metadata": {
        "colab": {
          "base_uri": "https://localhost:8080/",
          "height": 282
        },
        "id": "lvpP_wxN51qm",
        "outputId": "5784ed16-9e04-4d84-ed20-675deace9728"
      },
      "execution_count": null,
      "outputs": [
        {
          "output_type": "execute_result",
          "data": {
            "text/plain": [
              "[<matplotlib.lines.Line2D at 0x7f4659b2b0d0>]"
            ]
          },
          "metadata": {},
          "execution_count": 3
        },
        {
          "output_type": "display_data",
          "data": {
            "text/plain": [
              "<Figure size 432x288 with 1 Axes>"
            ],
            "image/png": "[encoded data removed]"
          },
          "metadata": {
            "needs_background": "light"
          }
        }
      ]
    },
    {
      "cell_type": "code",
      "source": [
        "#The simplest non-parametric technique for density estimation is the histogram.\n",
        "plt.hist(x, bins=17, density=True)\n",
        "plt.show()"
      ],
      "metadata": {
        "colab": {
          "base_uri": "https://localhost:8080/",
          "height": 268
        },
        "id": "Ru9wH6fo51w-",
        "outputId": "a8dd6ed3-acf3-4a3c-db1a-65b9f0fa0b1a"
      },
      "execution_count": null,
      "outputs": [
        {
          "output_type": "display_data",
          "data": {
            "text/plain": [
              "<Figure size 432x288 with 1 Axes>"
            ],
            "image/png": "[encoded data removed]"
          },
          "metadata": {
            "needs_background": "light"
          }
        }
      ]
    },
    {
      "cell_type": "markdown",
      "metadata": {
        "id": "8mU_KgC6w8Ik"
      },
      "source": [
        "The histogram above is discontinuous. To compute a continuous probability density function, we can use a KDE.\n",
        "\n",
        "**How?** A normal kernel is placed on each of the data points xi and the kernels are then summed to make the kernel density estimate. \n",
        "\n",
        "<code>SciPy</code> implements a Gaussian KDE that automatically chooses an appropriate bandwidth following Scott's rule:\n",
        " https://docs.scipy.org/doc/scipy/reference/generated/scipy.stats.gaussian_kde.html#ra3a8695506c7-3"
      ]
    },
    {
      "cell_type": "code",
      "metadata": {
        "colab": {
          "base_uri": "https://localhost:8080/",
          "height": 268
        },
        "id": "CO4edDI2w8Ik",
        "outputId": "72c20233-120a-4f78-c64c-99cfe001d49d"
      },
      "source": [
        "from scipy.stats import kde\n",
        "\n",
        "density = kde.gaussian_kde(x)\n",
        "xgrid = np.linspace(x.min(), x.max(), 100)\n",
        "plt.hist(x, bins=17, density=True)\n",
        "plt.plot(xgrid, density(xgrid), 'r-')\n",
        "plt.show()"
      ],
      "execution_count": null,
      "outputs": [
        {
          "output_type": "display_data",
          "data": {
            "text/plain": [
              "<Figure size 432x288 with 1 Axes>"
            ],
            "image/png": "[encoded data removed]"
          },
          "metadata": {
            "needs_background": "light"
          }
        }
      ]
    },
    {
      "cell_type": "markdown",
      "metadata": {
        "id": "-JFrEbi0w8Ik"
      },
      "source": [
        "Kernel bandwidth selection strongly influences the estimate obtained from the KDE (much more so than the actual shape of the kernel). The bandwidth acts as a smoothing parameter, controlling the tradeoff between bias and variance in the result: a large bandwidth leads to a very smooth (i.e. high-bias) density distribution, while a small bandwidth leads to an unsmooth (i.e. high-variance) density distribution."
      ]
    },
    {
      "cell_type": "code",
      "metadata": {
        "id": "Swhhcj0Ew8Il",
        "colab": {
          "base_uri": "https://localhost:8080/",
          "height": 265
        },
        "outputId": "38122364-697d-4fd5-99c3-e6b52acb7ab0"
      },
      "source": [
        "# EXERCICE: Plot the estimation for  3 different bandwidths [0.1, 0.2, 0.6]\n",
        "density = kde.gaussian_kde(x, bw_method=0.1)\n",
        "density2 = kde.gaussian_kde(x, bw_method=0.2)\n",
        "density3 = kde.gaussian_kde(x, bw_method=0.6)\n",
        "xgrid = np.linspace(x.min(), x.max(), 100)\n",
        "plt.hist(x, bins=17, density=True)\n",
        "plt.plot(xgrid, density(xgrid), 'r-')\n",
        "plt.plot(xgrid, density2(xgrid), 'b-')\n",
        "plt.plot(xgrid, density3(xgrid), 'g-')\n",
        "plt.show()"
      ],
      "execution_count": null,
      "outputs": [
        {
          "output_type": "display_data",
          "data": {
            "text/plain": [
              "<Figure size 432x288 with 1 Axes>"
            ],
            "image/png": "[encoded data removed]"
          },
          "metadata": {
            "needs_background": "light"
          }
        }
      ]
    },
    {
      "cell_type": "code",
      "source": [
        "density = kde.gaussian_kde(x, bw_method=1)\n",
        "\n",
        "xgrid = np.linspace(x.min(), x.max(), 100)\n",
        "plt.hist(x, bins=17, density=True)\n",
        "plt.plot(xgrid, density(xgrid), 'r-')\n",
        "plt.show()"
      ],
      "metadata": {
        "colab": {
          "base_uri": "https://localhost:8080/",
          "height": 268
        },
        "id": "d7yYgzNj7NKM",
        "outputId": "8c03e548-1800-4403-c681-f23643af732d"
      },
      "execution_count": null,
      "outputs": [
        {
          "output_type": "display_data",
          "data": {
            "text/plain": [
              "<Figure size 432x288 with 1 Axes>"
            ],
            "image/png": "[encoded data removed]"
          },
          "metadata": {
            "needs_background": "light"
          }
        }
      ]
    },
    {
      "cell_type": "markdown",
      "metadata": {
        "id": "gCbtJ8Mcw8Il"
      },
      "source": [
        "\n",
        "### 1.2 Mean\n",
        "\n",
        "\n"
      ]
    },
    {
      "cell_type": "markdown",
      "metadata": {
        "id": "JZjkf2tXw8Im"
      },
      "source": [
        "Let's think of a sequence of values: \n",
        "[-0.441, 1.774, -0.101, -1.138, 2.975, -2.138].\n",
        "\n",
        "Can you guess which is the distribution? For example what would be its mean?\n",
        "\n",
        "Hint: assume that it is normal distribution."
      ]
    },
    {
      "cell_type": "code",
      "metadata": {
        "id": "y030wyuYw8Im",
        "colab": {
          "base_uri": "https://localhost:8080/"
        },
        "outputId": "9f6df0cd-0536-43a4-dbf2-42a170d462f9"
      },
      "source": [
        "# EXERCICE: What is the mean?\n",
        "x=np.array([-0.441, 1.774, -0.101, -1.138, 2.975, -2.138])\n",
        "\n",
        "x_m = np.mean(x)\n",
        "\n",
        "print(x_m)"
      ],
      "execution_count": null,
      "outputs": [
        {
          "output_type": "stream",
          "name": "stdout",
          "text": [
            "0.15516666666666667\n"
          ]
        }
      ]
    },
    {
      "cell_type": "markdown",
      "metadata": {
        "id": "C5se3cBbw8Im"
      },
      "source": [
        "Since we usually do not know the true population properties, we can try our best to define estimators of those properties from the sample set using a similar construction.\n",
        "\n",
        "> **Estimation** is the process of inferring the parameters (e.g. mean) of a distribution from a statistic of samples drown from a population. \n",
        "\n",
        "For example: What is the estimated mean $\\hat{\\mu}$ of the following normal data?"
      ]
    },
    {
      "cell_type": "code",
      "metadata": {
        "colab": {
          "base_uri": "https://localhost:8080/",
          "height": 265
        },
        "id": "vietKmyEw8Im",
        "outputId": "9c7305b3-81f6-45e3-fe65-79017cce3035"
      },
      "source": [
        "x = np.random.normal(0.0, 1.0, 10000000)\n",
        "a = plt.hist(x,50,density='True')"
      ],
      "execution_count": null,
      "outputs": [
        {
          "output_type": "display_data",
          "data": {
            "text/plain": [
              "<Figure size 432x288 with 1 Axes>"
            ],
            "image/png": "[encoded data removed]"
          },
          "metadata": {
            "needs_background": "light"
          }
        }
      ]
    },
    {
      "cell_type": "markdown",
      "metadata": {
        "id": "jhnLtnWyw8Im"
      },
      "source": [
        "We can use our definition of empirical mean:"
      ]
    },
    {
      "cell_type": "code",
      "metadata": {
        "colab": {
          "base_uri": "https://localhost:8080/"
        },
        "id": "u4OxPt7dw8In",
        "outputId": "83122e3d-6095-43eb-9645-c159e16ba611"
      },
      "source": [
        "print('The empirical mean of the sample is ', x.mean())"
      ],
      "execution_count": null,
      "outputs": [
        {
          "output_type": "stream",
          "name": "stdout",
          "text": [
            "The empirical mean of the sample is  -0.0004333175773094153\n"
          ]
        }
      ]
    },
    {
      "cell_type": "markdown",
      "metadata": {
        "id": "nRPUI0YQw8In"
      },
      "source": [
        "Let us imagine that we were reported the following data, where probably one of the data (the last item) is wrong:\n",
        "    "
      ]
    },
    {
      "cell_type": "code",
      "metadata": {
        "colab": {
          "base_uri": "https://localhost:8080/"
        },
        "id": "bMFkiJB8w8In",
        "outputId": "a099b04f-d52e-463a-bae0-a5d2169d5009"
      },
      "source": [
        "x=np.array([-0.441, 1.774, -0.101, -1.138, 2.975, -213.8])\n",
        "print(x.mean())"
      ],
      "execution_count": null,
      "outputs": [
        {
          "output_type": "stream",
          "name": "stdout",
          "text": [
            "-35.121833333333335\n"
          ]
        }
      ]
    },
    {
      "cell_type": "markdown",
      "metadata": {
        "id": "Vl-AHRLFw8In"
      },
      "source": [
        "Is the mean estimator good enough? The median is also an estimator (more robust to outliers)"
      ]
    },
    {
      "cell_type": "code",
      "metadata": {
        "id": "xZvQqwQK96LS",
        "outputId": "64030d13-1670-4ec4-a9d7-6b555fb34ef7",
        "colab": {
          "base_uri": "https://localhost:8080/"
        }
      },
      "source": [
        "# EXERCICE: Plot the median of the data\n",
        "np.median(x)"
      ],
      "execution_count": null,
      "outputs": [
        {
          "output_type": "execute_result",
          "data": {
            "text/plain": [
              "-0.271"
            ]
          },
          "metadata": {},
          "execution_count": 13
        }
      ]
    },
    {
      "cell_type": "markdown",
      "metadata": {
        "id": "2rIbv3u6w8Io"
      },
      "source": [
        "**Sample mean**\n",
        "\n",
        "\"Is median better than sample mean?\" it depends, we can use two different objectives to answer this question: the *minimization of error* or the *maximization to get the right answer*. \n",
        "   * The median may be a better indicator of the most typical value if a set of scores has an outlier. \n",
        "   * If there are no outliers, we can use the **sample mean** to minimize **mean squared error** (where $m$ is the number of times you play the estimation game, not the size of the sample!):\n",
        "\n",
        "$$ MSE = \\frac{1}{m} \\sum(\\hat{\\mu} - \\mu)^2$$\n",
        "\n",
        "\n"
      ]
    },
    {
      "cell_type": "code",
      "metadata": {
        "colab": {
          "base_uri": "https://localhost:8080/"
        },
        "id": "KYCBk0L5w8Io",
        "outputId": "afc34e45-8fba-42f0-9576-480fc5ff945d"
      },
      "source": [
        "err = 0.0\n",
        "mu=0.0\n",
        "NTests=1000\n",
        "var=1.0\n",
        "NPoints=100\n",
        "for i in range(NTests):\n",
        "    x = np.random.normal(mu, var, NPoints)\n",
        "    err += (mu - x.mean())**2\n",
        "\n",
        "print('MSE: ', err/NTests) "
      ],
      "execution_count": null,
      "outputs": [
        {
          "output_type": "stream",
          "name": "stdout",
          "text": [
            "MSE:  0.01080215848594492\n"
          ]
        }
      ]
    },
    {
      "cell_type": "code",
      "metadata": {
        "id": "rTUCgIUS-gW_",
        "outputId": "36f0cdab-d93b-4809-90ef-2a59bb3e00d9",
        "colab": {
          "base_uri": "https://localhost:8080/"
        }
      },
      "source": [
        "# EXERCICE: Test the MSE for different number of tests (NTests) and number of samples (NPoints) \n",
        "err = 0.0\n",
        "mu=0.0\n",
        "NTests=100000\n",
        "var=1.0\n",
        "NPoints=10000\n",
        "for i in range(NTests):\n",
        "    x = np.random.normal(mu, var, NPoints)\n",
        "    err += (mu - x.mean())**2\n",
        "\n",
        "print('MSE: ', err/NTests) "
      ],
      "execution_count": null,
      "outputs": [
        {
          "output_type": "stream",
          "name": "stdout",
          "text": [
            "MSE:  9.978158535918194e-05\n"
          ]
        }
      ]
    },
    {
      "cell_type": "code",
      "metadata": {
        "id": "xLoNPeKD-CoH"
      },
      "source": [
        "# EXERCICE: Compare the median vs the mean"
      ],
      "execution_count": null,
      "outputs": []
    },
    {
      "cell_type": "code",
      "metadata": {
        "id": "vN39mP9n-d0Q",
        "outputId": "83353496-9927-48f9-d79d-811e52fc6d46",
        "colab": {
          "base_uri": "https://localhost:8080/"
        }
      },
      "source": [
        "print(np.mean(x))\n",
        "print(np.median(x))"
      ],
      "execution_count": null,
      "outputs": [
        {
          "output_type": "stream",
          "name": "stdout",
          "text": [
            "0.004519605828489551\n",
            "0.005176248989150924\n"
          ]
        }
      ]
    },
    {
      "cell_type": "markdown",
      "metadata": {
        "id": "sl3vvHkfw8Io"
      },
      "source": [
        "### 1.3 Sample variance\n",
        "\n",
        "We can also estimate the variance with:\n",
        "\n",
        "$$ \\hat{\\sigma}^2 = \\frac{1}{n} \\sum_i (x_i - \\mu)^2 $$\n",
        "\n",
        "This estimator works for large samples, but it is biased for small samples. We can  use $n − 1$ instead of $n$ in the formula to correct for this bias:\n",
        "\n",
        "$$ \\hat{\\sigma}^2_{n-1} = \\frac{1}{n-1} \\sum_i (x_i - \\mu)^2 $$\n"
      ]
    },
    {
      "cell_type": "code",
      "metadata": {
        "id": "-uHSesFi-RaI",
        "outputId": "815f6299-c132-45ae-dd7d-68aaa196b026",
        "colab": {
          "base_uri": "https://localhost:8080/"
        }
      },
      "source": [
        "# EXERCICE: compute the sample variance for the exercice above (i.e. 100000 points 1000 times)\n",
        "err = 0.0\n",
        "mu=0.0\n",
        "NTests=1000\n",
        "var=1.0\n",
        "NPoints=100000\n",
        "for i in range(NTests):\n",
        "    x = np.random.normal(mu, var, NPoints)\n",
        "np.var(x)"
      ],
      "execution_count": null,
      "outputs": [
        {
          "output_type": "execute_result",
          "data": {
            "text/plain": [
              "0.9989744248843108"
            ]
          },
          "metadata": {},
          "execution_count": 21
        }
      ]
    },
    {
      "cell_type": "markdown",
      "metadata": {
        "id": "-_wb6q8kw8Ip"
      },
      "source": [
        "### 1.4 Other concepts: Standard scores\n",
        "\n",
        "A standard score or **Z-score** is a numerical measurement that describes a value's relationship to the mean of a group of values. Z-score is measured in terms of standard deviations from the mean. If a Z-score is 0, it indicates that the data point's score is identical to the mean score. A Z-score of 1.0 would indicate a value that is one standard deviation from the mean. It is computed as: \n",
        "\n",
        "$$ z_i = \\frac{x_i - \\mu}{\\sigma}$$"
      ]
    },
    {
      "cell_type": "markdown",
      "metadata": {
        "id": "Pn7TqI0bw8Ip"
      },
      "source": [
        "This measure is dimensionless and its distribution has mean 0 and variance 1.\n",
        "\n",
        "It inherits the \"shape\" of $X$: if it is normally distributed, so is $Z$. If $X$ is skewed, so is $Z$."
      ]
    },
    {
      "cell_type": "code",
      "metadata": {
        "id": "rpprqN7B-0aI",
        "outputId": "b373353f-b129-49a9-ecc3-9a576909beba",
        "colab": {
          "base_uri": "https://localhost:8080/",
          "height": 389
        }
      },
      "source": [
        "# EXERCICE: Standardize the following data and plot the histogram of the original and the standardized data \n",
        "x = np.random.normal(5, 20, 10000)\n",
        "x_stand = (x-np.mean(x))/np.std(x)\n",
        "\n",
        "NB = np.int(np.round(np.sqrt(len(x))))\n",
        "a =  plt.hist(x,NB, density='True')\n",
        "\n",
        "NB = np.int(np.round(np.sqrt(len(x))))\n",
        "a =  plt.hist(x_stand,NB, density='True')"
      ],
      "execution_count": null,
      "outputs": [
        {
          "output_type": "stream",
          "name": "stderr",
          "text": [
            "<ipython-input-22-38ec263a0376>:5: DeprecationWarning: `np.int` is a deprecated alias for the builtin `int`. To silence this warning, use `int` by itself. Doing this will not modify any behavior and is safe. When replacing `np.int`, you may wish to use e.g. `np.int64` or `np.int32` to specify the precision. If you wish to review your current use, check the release note link for additional information.\n",
            "Deprecated in NumPy 1.20; for more details and guidance: https://numpy.org/devdocs/release/1.20.0-notes.html#deprecations\n",
            "  NB = np.int(np.round(np.sqrt(len(x))))\n",
            "<ipython-input-22-38ec263a0376>:8: DeprecationWarning: `np.int` is a deprecated alias for the builtin `int`. To silence this warning, use `int` by itself. Doing this will not modify any behavior and is safe. When replacing `np.int`, you may wish to use e.g. `np.int64` or `np.int32` to specify the precision. If you wish to review your current use, check the release note link for additional information.\n",
            "Deprecated in NumPy 1.20; for more details and guidance: https://numpy.org/devdocs/release/1.20.0-notes.html#deprecations\n",
            "  NB = np.int(np.round(np.sqrt(len(x))))\n"
          ]
        },
        {
          "output_type": "display_data",
          "data": {
            "text/plain": [
              "<Figure size 432x288 with 1 Axes>"
            ],
            "image/png": "[encoded data removed]"
          },
          "metadata": {
            "needs_background": "light"
          }
        }
      ]
    },
    {
      "cell_type": "markdown",
      "metadata": {
        "id": "uBKnMeZcw8Ip"
      },
      "source": [
        "### 1.5 Covariance \n",
        "\n",
        "Sometimes it would be of interest to measure the relationship between two variables. \n",
        "\n",
        "**Covariance** is a measure of the tendency of two variables to vary together. If we have two series $X$ and $Y$ with $X=\\{x_i\\}$ and $Y=\\{y_i\\}$, their covariance is the expected value (or mean) of the product of their deviations from their individual expected values:\n",
        "\n",
        "$$ Cov(X,Y) = \\frac{1}{n} \\sum (x_i - \\mu_X)*(y_i - \\mu_Y), $$\n",
        "\n",
        "where $n$ is the length of the two series.\n",
        "\n",
        "The *sign of the covariance therefore shows the tendency in the linear relationship between the variables*. If the greater values of one variable mainly correspond with the greater values of the other variable, and the same holds for the lesser values, (i.e., the variables tend to show similar behavior), the covariance is positive. In the opposite case, when the greater values of one variable mainly correspond to the lesser values of the other, (i.e., the variables tend to show opposite behavior), the covariance is negative. \n",
        "\n",
        "The magnitude of the covariance is not easy to interpret because it is not normalized and hence depends on the magnitudes of the variables. The normalized version of the covariance, the correlation coefficient, however, shows by its magnitude the strength of the linear relation."
      ]
    },
    {
      "cell_type": "code",
      "metadata": {
        "colab": {
          "base_uri": "https://localhost:8080/"
        },
        "id": "GthpWXY-w8Ip",
        "outputId": "736bf3b4-fd5d-48c6-d1d9-845d3c207758"
      },
      "source": [
        "# Así me hago una funcion en Python\n",
        "def Cov(X, Y): # Nombre_funcion(variables entrada):\n",
        "    def _get_dvis(V):\n",
        "        return [v - np.mean(V) for v in V]\n",
        "    dxis = _get_dvis(X)\n",
        "    dyis = _get_dvis(Y)\n",
        "    return np.sum([x * y for x, y in zip(dxis, dyis)])/(len(X)) # aqui se define lo que devuelve la funcion\n",
        "\n",
        "###########################\n",
        "\n",
        "X = [5, -1, 3.3, 2.7, 12.2]\n",
        "Y = [10,12,8,9,11]\n",
        "\n",
        "print(\"Cov(X, X) = %.2f\" % Cov(X, X))\n",
        "print(\"Var(X) = %.2f\" % np.var(X))\n",
        "\n",
        "print( \"Cov(X, Y) = %.2f\" % Cov(X, Y))\n",
        "print( \"Cov(X, Y) = %.2f\" % np.cov(X, Y)[0][1])\n"
      ],
      "execution_count": null,
      "outputs": [
        {
          "output_type": "stream",
          "name": "stdout",
          "text": [
            "Cov(X, X) = 18.89\n",
            "Var(X) = 18.89\n",
            "Cov(X, Y) = 0.18\n",
            "Cov(X, Y) = 0.22\n"
          ]
        }
      ]
    },
    {
      "cell_type": "code",
      "source": [
        "np.cov(X, Y)"
      ],
      "metadata": {
        "colab": {
          "base_uri": "https://localhost:8080/"
        },
        "id": "jZtWnlnf_4cI",
        "outputId": "3298ba9c-8583-4750-bd45-5cd36ab14783"
      },
      "execution_count": null,
      "outputs": [
        {
          "output_type": "execute_result",
          "data": {
            "text/plain": [
              "array([[23.613,  0.225],\n",
              "       [ 0.225,  2.5  ]])"
            ]
          },
          "metadata": {},
          "execution_count": 24
        }
      ]
    },
    {
      "cell_type": "markdown",
      "metadata": {
        "id": "IKAIX1xrw8Ip"
      },
      "source": [
        "### 1.6 Pearson's Correlation\n",
        "\n",
        "Pearson's correlation coefficient $\\rho$ is a measure of the strength of the linear association between two variables. It also takes into account the standard deviation $\\sigma$ to measure the relationship among variables:\n",
        " \n",
        "$$ \\rho = \\frac{1}{n} \\sum p_i = \\frac{1}{n} \\sum  \\frac{(x_i - \\mu_X)}{\\sigma_X} \\frac{(y_i - \\mu_Y)}{\\sigma_Y}  $$\n",
        "\n",
        "Or we can rewrite $\\rho$ by factoring out $\\sigma_X$ and $\\sigma_Y$:\n",
        "\n",
        "$$ \\rho = \\frac{Cov(X,Y)}{\\sigma_X \\sigma_Y}$$\n",
        "\n",
        " \n"
      ]
    },
    {
      "cell_type": "code",
      "metadata": {
        "colab": {
          "base_uri": "https://localhost:8080/"
        },
        "id": "5fQYmVlaw8Iq",
        "outputId": "d547ae6e-1828-4ecb-b8fd-ea766081f24a"
      },
      "source": [
        "def Corr(X, Y):\n",
        "    assert len(X) == len(Y)\n",
        "    return Cov(X, Y) / np.prod([np.std(V) for V in [X, Y]])\n",
        "\n",
        "print(\"Corr(X, X) = %.5f\" % Corr(X, X))\n",
        "\n",
        "Y=np.random.random(len(X))\n",
        "\n",
        "print(\"Corr(X, Y) = %.5f\" % Corr(X, Y))"
      ],
      "execution_count": null,
      "outputs": [
        {
          "output_type": "stream",
          "name": "stdout",
          "text": [
            "Corr(X, X) = 1.00000\n",
            "Corr(X, Y) = 0.65058\n"
          ]
        }
      ]
    },
    {
      "cell_type": "code",
      "source": [
        "plt.plot(X,Y,'.')"
      ],
      "metadata": {
        "id": "Nfkg6v9-qG1u",
        "outputId": "2d11ccf7-b904-4919-e6ae-d88e22294232",
        "colab": {
          "base_uri": "https://localhost:8080/",
          "height": 282
        }
      },
      "execution_count": null,
      "outputs": [
        {
          "output_type": "execute_result",
          "data": {
            "text/plain": [
              "[<matplotlib.lines.Line2D at 0x7f464ed9be50>]"
            ]
          },
          "metadata": {},
          "execution_count": 34
        },
        {
          "output_type": "display_data",
          "data": {
            "text/plain": [
              "<Figure size 432x288 with 1 Axes>"
            ],
            "image/png": "[encoded data removed]"
          },
          "metadata": {
            "needs_background": "light"
          }
        }
      ]
    },
    {
      "cell_type": "markdown",
      "metadata": {
        "id": "dKxOJnlTw8Iq"
      },
      "source": [
        "When $\\rho = 0$, we cannot say that there is no relationship between the variables!\n",
        "\n",
        "Pearson's coefficient only measures **linear** correlations!"
      ]
    },
    {
      "cell_type": "markdown",
      "metadata": {
        "id": "d1m1BaUyw8Iq"
      },
      "source": [
        "### 1.7 Spearman’s rank correlation\n",
        "\n",
        "Pearson’s correlation works well if the relationship between variables is linear and if the variables are roughly normal. But it is not robust in the presence of **outliers**. Spearman’s rank correlation is an alternative that mitigates the effect of outliers and skewed distributions. \n",
        "\n",
        "* To compute Spearman’s correlation, we have to compute the rank of each value, which is its index in the sorted sample. For example, in the sample {7, 1, 2, 5} the rank of the value 5 is 3, because it appears third if we sort the elements. Then, we compute the Pearson’s correlation, **but for the ranks**.\n",
        "\n",
        "* Spearman's correlation coefficient, $\\rho_s$ measures the strength and direction of association between two ranked variables. While Pearson's correlation assesses linear relationships, Spearman's correlation assesses monotonic relationships (whether linear or not)."
      ]
    },
    {
      "cell_type": "code",
      "metadata": {
        "colab": {
          "base_uri": "https://localhost:8080/"
        },
        "id": "3KRFls4Cw8Iq",
        "outputId": "ae4df7df-47af-4236-d6d8-7243e64fff66"
      },
      "source": [
        "def list2rank(l):\n",
        "    #l is a list of numbers\n",
        "    # returns a list of 1-based index; mean when multiple instances\n",
        "    return [np.mean([i+1 for i, sorted_el in enumerate(sorted(l)) if sorted_el == el]) for el in l]\n",
        "\n",
        "l = [7, 1, 2, 5]\n",
        "print(\"ranks: \", list2rank(l))\n",
        "\n",
        "def spearmanRank(X, Y):\n",
        "    # X and Y are same-length lists\n",
        "    return Corr(list2rank(X), list2rank(Y))\n",
        "\n",
        "X = [1, 2, 3, 4, 100]\n",
        "Y = [5, -100, 7, 10, 9]\n",
        "\n",
        "print(\"Pearson rank coefficient: %.2f\" % Corr(X, Y))\n",
        "print(\"Spearman rank coefficient: %.2f\" % spearmanRank(X, Y))\n",
        "\n"
      ],
      "execution_count": null,
      "outputs": [
        {
          "output_type": "stream",
          "name": "stdout",
          "text": [
            "ranks:  [4.0, 1.0, 2.0, 3.0]\n",
            "Pearson rank coefficient: 0.27\n",
            "Spearman rank coefficient: 0.80\n"
          ]
        }
      ]
    },
    {
      "cell_type": "code",
      "source": [
        "plt.plot(X,Y,'.')"
      ],
      "metadata": {
        "id": "-mh8pNZ0qWjO",
        "outputId": "850b1917-8836-4d66-bd3e-db5fbcb385fc",
        "colab": {
          "base_uri": "https://localhost:8080/",
          "height": 282
        }
      },
      "execution_count": null,
      "outputs": [
        {
          "output_type": "execute_result",
          "data": {
            "text/plain": [
              "[<matplotlib.lines.Line2D at 0x7f464ed7a8b0>]"
            ]
          },
          "metadata": {},
          "execution_count": 36
        },
        {
          "output_type": "display_data",
          "data": {
            "text/plain": [
              "<Figure size 432x288 with 1 Axes>"
            ],
            "image/png": "[encoded data removed]"
          },
          "metadata": {
            "needs_background": "light"
          }
        }
      ]
    },
    {
      "cell_type": "markdown",
      "metadata": {
        "id": "NE_yGY4Iw8Ir"
      },
      "source": [
        "Anscombe’s quartet consists of four datasets that have nearly identical simple statistical properties, yet appear very different when graphed. Each dataset consists of eleven (x, y) points. They were constructed in 1973 by the statistician Francis Anscombe to demonstrate both the importance of graphing data before analyzing it and the effect of outliers on statistical properties."
      ]
    },
    {
      "cell_type": "markdown",
      "metadata": {
        "id": "RBahLyJ_w8Ir"
      },
      "source": []
    },
    {
      "cell_type": "markdown",
      "metadata": {
        "id": "Pm55qiMnayiF"
      },
      "source": [
        "(Source: https://en.wikipedia.org/wiki/Anscombe%27s_quartet)"
      ]
    },
    {
      "cell_type": "code",
      "metadata": {
        "id": "ouaReHxhw8Ir"
      },
      "source": [
        "# EXERCISE: Load the Anscombe's quartet (file anscombe.csv from the files directory) and obtain the covariance, \n",
        "# Pearson's correlation and Spearman's rank correlation from each pair"
      ],
      "execution_count": null,
      "outputs": []
    },
    {
      "cell_type": "code",
      "metadata": {
        "id": "cLa5KJQQw8Ir",
        "colab": {
          "base_uri": "https://localhost:8080/",
          "height": 206
        },
        "outputId": "eb926a62-7044-45b1-e5f0-ea359837fa05"
      },
      "source": [
        "#My solution here\n",
        "import pandas as pd\n",
        "da = pd.read_csv('anscombe.csv')  \n",
        "da.head()\n"
      ],
      "execution_count": null,
      "outputs": [
        {
          "output_type": "execute_result",
          "data": {
            "text/plain": [
              "   x1  x2  x3  x4    y1    y2     y3    y4\n",
              "0  10  10  10   8  8.04  9.14   7.46  6.58\n",
              "1   8   8   8   8  6.95  8.14   6.77  5.76\n",
              "2  13  13  13   8  7.58  8.74  12.74  7.71\n",
              "3   9   9   9   8  8.81  8.77   7.11  8.84\n",
              "4  11  11  11   8  8.33  9.26   7.81  8.47"
            ],
            "text/html": [
              "\n",
              "  <div id=\"df-6177b82e-44b0-4df0-a22e-5092c2ebac54\">\n",
              "    <div class=\"colab-df-container\">\n",
              "      <div>\n",
              "<style scoped>\n",
              "    .dataframe tbody tr th:only-of-type {\n",
              "        vertical-align: middle;\n",
              "    }\n",
              "\n",
              "    .dataframe tbody tr th {\n",
              "        vertical-align: top;\n",
              "    }\n",
              "\n",
              "    .dataframe thead th {\n",
              "        text-align: right;\n",
              "    }\n",
              "</style>\n",
              "<table border=\"1\" class=\"dataframe\">\n",
              "  <thead>\n",
              "    <tr style=\"text-align: right;\">\n",
              "      <th></th>\n",
              "      <th>x1</th>\n",
              "      <th>x2</th>\n",
              "      <th>x3</th>\n",
              "      <th>x4</th>\n",
              "      <th>y1</th>\n",
              "      <th>y2</th>\n",
              "      <th>y3</th>\n",
              "      <th>y4</th>\n",
              "    </tr>\n",
              "  </thead>\n",
              "  <tbody>\n",
              "    <tr>\n",
              "      <th>0</th>\n",
              "      <td>10</td>\n",
              "      <td>10</td>\n",
              "      <td>10</td>\n",
              "      <td>8</td>\n",
              "      <td>8.04</td>\n",
              "      <td>9.14</td>\n",
              "      <td>7.46</td>\n",
              "      <td>6.58</td>\n",
              "    </tr>\n",
              "    <tr>\n",
              "      <th>1</th>\n",
              "      <td>8</td>\n",
              "      <td>8</td>\n",
              "      <td>8</td>\n",
              "      <td>8</td>\n",
              "      <td>6.95</td>\n",
              "      <td>8.14</td>\n",
              "      <td>6.77</td>\n",
              "      <td>5.76</td>\n",
              "    </tr>\n",
              "    <tr>\n",
              "      <th>2</th>\n",
              "      <td>13</td>\n",
              "      <td>13</td>\n",
              "      <td>13</td>\n",
              "      <td>8</td>\n",
              "      <td>7.58</td>\n",
              "      <td>8.74</td>\n",
              "      <td>12.74</td>\n",
              "      <td>7.71</td>\n",
              "    </tr>\n",
              "    <tr>\n",
              "      <th>3</th>\n",
              "      <td>9</td>\n",
              "      <td>9</td>\n",
              "      <td>9</td>\n",
              "      <td>8</td>\n",
              "      <td>8.81</td>\n",
              "      <td>8.77</td>\n",
              "      <td>7.11</td>\n",
              "      <td>8.84</td>\n",
              "    </tr>\n",
              "    <tr>\n",
              "      <th>4</th>\n",
              "      <td>11</td>\n",
              "      <td>11</td>\n",
              "      <td>11</td>\n",
              "      <td>8</td>\n",
              "      <td>8.33</td>\n",
              "      <td>9.26</td>\n",
              "      <td>7.81</td>\n",
              "      <td>8.47</td>\n",
              "    </tr>\n",
              "  </tbody>\n",
              "</table>\n",
              "</div>\n",
              "      <button class=\"colab-df-convert\" onclick=\"convertToInteractive('df-6177b82e-44b0-4df0-a22e-5092c2ebac54')\"\n",
              "              title=\"Convert this dataframe to an interactive table.\"\n",
              "              style=\"display:none;\">\n",
              "        \n",
              "  <svg xmlns=\"http://www.w3.org/2000/svg\" height=\"24px\"viewBox=\"0 0 24 24\"\n",
              "       width=\"24px\">\n",
              "    <path d=\"M0 0h24v24H0V0z\" fill=\"none\"/>\n",
              "    <path d=\"M18.56 5.44l.94 2.06.94-2.06 2.06-.94-2.06-.94-.94-2.06-.94 2.06-2.06.94zm-11 1L8.5 8.5l.94-2.06 2.06-.94-2.06-.94L8.5 2.5l-.94 2.06-2.06.94zm10 10l.94 2.06.94-2.06 2.06-.94-2.06-.94-.94-2.06-.94 2.06-2.06.94z\"/><path d=\"M17.41 7.96l-1.37-1.37c-.4-.4-.92-.59-1.43-.59-.52 0-1.04.2-1.43.59L10.3 9.45l-7.72 7.72c-.78.78-.78 2.05 0 2.83L4 21.41c.39.39.9.59 1.41.59.51 0 1.02-.2 1.41-.59l7.78-7.78 2.81-2.81c.8-.78.8-2.07 0-2.86zM5.41 20L4 18.59l7.72-7.72 1.47 1.35L5.41 20z\"/>\n",
              "  </svg>\n",
              "      </button>\n",
              "      \n",
              "  <style>\n",
              "    .colab-df-container {\n",
              "      display:flex;\n",
              "      flex-wrap:wrap;\n",
              "      gap: 12px;\n",
              "    }\n",
              "\n",
              "    .colab-df-convert {\n",
              "      background-color: #E8F0FE;\n",
              "      border: none;\n",
              "      border-radius: 50%;\n",
              "      cursor: pointer;\n",
              "      display: none;\n",
              "      fill: #1967D2;\n",
              "      height: 32px;\n",
              "      padding: 0 0 0 0;\n",
              "      width: 32px;\n",
              "    }\n",
              "\n",
              "    .colab-df-convert:hover {\n",
              "      background-color: #E2EBFA;\n",
              "      box-shadow: 0px 1px 2px rgba(60, 64, 67, 0.3), 0px 1px 3px 1px rgba(60, 64, 67, 0.15);\n",
              "      fill: #174EA6;\n",
              "    }\n",
              "\n",
              "    [theme=dark] .colab-df-convert {\n",
              "      background-color: #3B4455;\n",
              "      fill: #D2E3FC;\n",
              "    }\n",
              "\n",
              "    [theme=dark] .colab-df-convert:hover {\n",
              "      background-color: #434B5C;\n",
              "      box-shadow: 0px 1px 3px 1px rgba(0, 0, 0, 0.15);\n",
              "      filter: drop-shadow(0px 1px 2px rgba(0, 0, 0, 0.3));\n",
              "      fill: #FFFFFF;\n",
              "    }\n",
              "  </style>\n",
              "\n",
              "      <script>\n",
              "        const buttonEl =\n",
              "          document.querySelector('#df-6177b82e-44b0-4df0-a22e-5092c2ebac54 button.colab-df-convert');\n",
              "        buttonEl.style.display =\n",
              "          google.colab.kernel.accessAllowed ? 'block' : 'none';\n",
              "\n",
              "        async function convertToInteractive(key) {\n",
              "          const element = document.querySelector('#df-6177b82e-44b0-4df0-a22e-5092c2ebac54');\n",
              "          const dataTable =\n",
              "            await google.colab.kernel.invokeFunction('convertToInteractive',\n",
              "                                                     [key], {});\n",
              "          if (!dataTable) return;\n",
              "\n",
              "          const docLinkHtml = 'Like what you see? Visit the ' +\n",
              "            '<a target=\"_blank\" href=https://colab.research.google.com/notebooks/data_table.ipynb>data table notebook</a>'\n",
              "            + ' to learn more about interactive tables.';\n",
              "          element.innerHTML = '';\n",
              "          dataTable['output_type'] = 'display_data';\n",
              "          await google.colab.output.renderOutput(dataTable, element);\n",
              "          const docLink = document.createElement('div');\n",
              "          docLink.innerHTML = docLinkHtml;\n",
              "          element.appendChild(docLink);\n",
              "        }\n",
              "      </script>\n",
              "    </div>\n",
              "  </div>\n",
              "  "
            ]
          },
          "metadata": {},
          "execution_count": 31
        }
      ]
    },
    {
      "cell_type": "code",
      "source": [
        "from google.colab import drive\n",
        "drive.mount('/content/drive')"
      ],
      "metadata": {
        "id": "jn3L-Cz9psFl",
        "outputId": "6b381121-a657-46e1-e9f6-533d1b0f73f4",
        "colab": {
          "base_uri": "https://localhost:8080/"
        }
      },
      "execution_count": null,
      "outputs": [
        {
          "output_type": "stream",
          "name": "stdout",
          "text": [
            "Mounted at /content/drive\n"
          ]
        }
      ]
    },
    {
      "cell_type": "code",
      "source": [
        "# extraigo los valores de x1 y y1, y los ploteo\n",
        "x1 = da['x1'].values\n",
        "y1 = da['y1'].values\n",
        "\n",
        "plt.plot(x1,y1,'.')"
      ],
      "metadata": {
        "colab": {
          "base_uri": "https://localhost:8080/",
          "height": 282
        },
        "id": "LRtBVUWtBtTj",
        "outputId": "096c49fd-ba00-46d4-e0f5-43e60a3f1192"
      },
      "execution_count": null,
      "outputs": [
        {
          "output_type": "execute_result",
          "data": {
            "text/plain": [
              "[<matplotlib.lines.Line2D at 0x7f464ecc6be0>]"
            ]
          },
          "metadata": {},
          "execution_count": 37
        },
        {
          "output_type": "display_data",
          "data": {
            "text/plain": [
              "<Figure size 432x288 with 1 Axes>"
            ],
            "image/png": "[encoded data removed]"
          },
          "metadata": {
            "needs_background": "light"
          }
        }
      ]
    },
    {
      "cell_type": "code",
      "source": [
        "print(\"Pearson rank coefficient: %.2f\" % Corr(x1, y1))\n",
        "print(\"Spearman rank coefficient: %.2f\" % spearmanRank(x1, y1))"
      ],
      "metadata": {
        "colab": {
          "base_uri": "https://localhost:8080/"
        },
        "id": "B5mFHuQ5B0E0",
        "outputId": "800cc2fc-b891-43d2-9039-255143f9cf8d"
      },
      "execution_count": null,
      "outputs": [
        {
          "output_type": "stream",
          "name": "stdout",
          "text": [
            "Pearson rank coefficient: 0.82\n",
            "Spearman rank coefficient: 0.82\n"
          ]
        }
      ]
    },
    {
      "cell_type": "markdown",
      "metadata": {
        "id": "hnA6Qg7Bw8Is"
      },
      "source": [
        "Here we implemented the correlation metrics by hand, but note these metrics are also implemented in python <code>scipy.stats.pearsonr</code> and <code>scipy.stats.spearmanr</code>. Check them out!\n"
      ]
    },
    {
      "cell_type": "code",
      "metadata": {
        "collapsed": true,
        "id": "4ABVF6tiw8Is"
      },
      "source": [],
      "execution_count": null,
      "outputs": []
    }
  ]
}